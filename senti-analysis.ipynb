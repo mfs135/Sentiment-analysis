{
 "cells": [
  {
   "cell_type": "code",
   "execution_count": 10,
   "metadata": {},
   "outputs": [],
   "source": [
    "import csv\n",
    "from bs4 import BeautifulSoup\n",
    "import requests\n",
    "import pandas as pd\n",
    "\n",
    "\n",
    "import time\n",
    "time.sleep(2)\n",
    "\n",
    "\n",
    "import warnings\n",
    "warnings.filterwarnings(\"ignore\")"
   ]
  },
  {
   "cell_type": "code",
   "execution_count": 11,
   "metadata": {},
   "outputs": [],
   "source": [
    "urls = []\n",
    "url1 = \"https://www.imdb.com/title/tt9052870/reviews?ref_=tt_urv\"\n",
    "url2 = \"https://www.imdb.com/title/tt11649338/reviews?ref_=tt_urv\"\n",
    "url3 = \"https://www.imdb.com/title/tt0312859/reviews?ref_=tt_urv\"\n",
    "url4 = \"https://www.imdb.com/title/tt0085743/reviews?ref_=tt_urv\"\n",
    "url5 = \"https://www.imdb.com/title/tt1316037/reviews?ref_=tt_urv\"\n",
    "urls.append(url1)\n",
    "urls.append(url2)\n",
    "urls.append(url3)\n",
    "urls.append(url4)\n",
    "urls.append(url5)"
   ]
  },
  {
   "cell_type": "code",
   "execution_count": 12,
   "metadata": {},
   "outputs": [],
   "source": [
    "content = []\n",
    "for url in urls:\n",
    "    page = requests.get(url, timeout=2.50)\n",
    "    page_content = page.content\n",
    "    soup = BeautifulSoup(page_content, \"html.parser\")\n",
    "    content.append(soup.find_all(\"div\", class_=\"review-container\"))"
   ]
  },
  {
   "cell_type": "code",
   "execution_count": 13,
   "metadata": {},
   "outputs": [
    {
     "name": "stdout",
     "output_type": "stream",
     "text": [
      "[[], [], [], [], []]\n"
     ]
    }
   ],
   "source": [
    "print(content)"
   ]
  },
  {
   "cell_type": "code",
   "execution_count": 14,
   "metadata": {},
   "outputs": [],
   "source": [
    "movie = pd.DataFrame(columns=[\"Review\", \"Rating\"])"
   ]
  },
  {
   "cell_type": "code",
   "execution_count": 15,
   "metadata": {},
   "outputs": [],
   "source": [
    "review = []\n",
    "rating = []\n",
    "count = 0\n",
    "for cc in content:\n",
    "    for c in cc:\n",
    "        count+= 1\n",
    "        print('\\nMovie Review ', count)\n",
    "        \n",
    "        str = c.find_all('a', attrs = {'class':'title'})\n",
    "        rReview = ''\n",
    "        for s in str:\n",
    "            rReview = s.get_text()\n",
    "            \n",
    "        ratings = c.find_all('span', attrs={'class':''})\n",
    "        rVal = []\n",
    "        for r in ratings:\n",
    "            str1 = r.get_text().strip()\n",
    "            rVal.append(str1)\n",
    "            \n",
    "        val = rVal[0]\n",
    "        if(len(val)>2):\n",
    "            continue\n",
    "        else:\n",
    "            review.append(rReview)\n",
    "            rating.append(val)\n",
    "        print('Review: ', rReview)\n",
    "        print('Rating: ', val)\n",
    "\n",
    "movie['Review'] = review\n",
    "movie['Rating'] = rating"
   ]
  },
  {
   "cell_type": "code",
   "execution_count": 16,
   "metadata": {},
   "outputs": [
    {
     "data": {
      "text/html": [
       "<div>\n",
       "<style scoped>\n",
       "    .dataframe tbody tr th:only-of-type {\n",
       "        vertical-align: middle;\n",
       "    }\n",
       "\n",
       "    .dataframe tbody tr th {\n",
       "        vertical-align: top;\n",
       "    }\n",
       "\n",
       "    .dataframe thead th {\n",
       "        text-align: right;\n",
       "    }\n",
       "</style>\n",
       "<table border=\"1\" class=\"dataframe\">\n",
       "  <thead>\n",
       "    <tr style=\"text-align: right;\">\n",
       "      <th></th>\n",
       "      <th>Review</th>\n",
       "      <th>Rating</th>\n",
       "    </tr>\n",
       "  </thead>\n",
       "  <tbody>\n",
       "  </tbody>\n",
       "</table>\n",
       "</div>"
      ],
      "text/plain": [
       "Empty DataFrame\n",
       "Columns: [Review, Rating]\n",
       "Index: []"
      ]
     },
     "execution_count": 16,
     "metadata": {},
     "output_type": "execute_result"
    }
   ],
   "source": [
    "movie.head()"
   ]
  },
  {
   "cell_type": "code",
   "execution_count": 17,
   "metadata": {},
   "outputs": [
    {
     "data": {
      "text/plain": [
       "(0, 2)"
      ]
     },
     "execution_count": 17,
     "metadata": {},
     "output_type": "execute_result"
    }
   ],
   "source": [
    "movie.shape"
   ]
  },
  {
   "cell_type": "code",
   "execution_count": 18,
   "metadata": {},
   "outputs": [],
   "source": [
    "movie.to_csv('MameFasseSALL-2441202_3.csv' , index = False)"
   ]
  },
  {
   "cell_type": "code",
   "execution_count": 19,
   "metadata": {},
   "outputs": [],
   "source": [
    "import string, re\n",
    "#import nltk\n",
    "#nltk.download()\n",
    "from nltk.corpus import stopwords\n",
    "from nltk.stem.porter import PorterStemmer\n",
    "from sklearn.feature_extraction.text import TfidfVectorizer, CountVectorizer\n",
    "from sklearn.model_selection import train_test_split"
   ]
  },
  {
   "cell_type": "code",
   "execution_count": 20,
   "metadata": {},
   "outputs": [
    {
     "data": {
      "text/plain": [
       "(0,)"
      ]
     },
     "execution_count": 20,
     "metadata": {},
     "output_type": "execute_result"
    }
   ],
   "source": [
    "textFeatures = movie['Review'].copy()\n",
    "textFeatures.shape"
   ]
  },
  {
   "cell_type": "code",
   "execution_count": 21,
   "metadata": {},
   "outputs": [
    {
     "name": "stdout",
     "output_type": "stream",
     "text": [
      "0\n"
     ]
    }
   ],
   "source": [
    "text = []\n",
    "for t in textFeatures:\n",
    "    text.append(t)\n",
    "all_text = \", \".join(t for t in text)\n",
    "print(len(all_text))"
   ]
  },
  {
   "cell_type": "code",
   "execution_count": 22,
   "metadata": {},
   "outputs": [
    {
     "ename": "ModuleNotFoundError",
     "evalue": "No module named 'wordcloud'",
     "output_type": "error",
     "traceback": [
      "\u001b[0;31m---------------------------------------------------------------------------\u001b[0m",
      "\u001b[0;31mModuleNotFoundError\u001b[0m                       Traceback (most recent call last)",
      "\u001b[1;32m/Users/saadbinwasi/Desktop/mfs/sentiment-analysis/senti-analysis.ipynb Cell 13\u001b[0m line \u001b[0;36m3\n\u001b[1;32m      <a href='vscode-notebook-cell:/Users/saadbinwasi/Desktop/mfs/sentiment-analysis/senti-analysis.ipynb#X15sZmlsZQ%3D%3D?line=0'>1</a>\u001b[0m \u001b[39mfrom\u001b[39;00m \u001b[39mos\u001b[39;00m \u001b[39mimport\u001b[39;00m path\n\u001b[1;32m      <a href='vscode-notebook-cell:/Users/saadbinwasi/Desktop/mfs/sentiment-analysis/senti-analysis.ipynb#X15sZmlsZQ%3D%3D?line=1'>2</a>\u001b[0m \u001b[39mfrom\u001b[39;00m \u001b[39mPIL\u001b[39;00m \u001b[39mimport\u001b[39;00m Image\n\u001b[0;32m----> <a href='vscode-notebook-cell:/Users/saadbinwasi/Desktop/mfs/sentiment-analysis/senti-analysis.ipynb#X15sZmlsZQ%3D%3D?line=2'>3</a>\u001b[0m \u001b[39mfrom\u001b[39;00m \u001b[39mwordcloud\u001b[39;00m \u001b[39mimport\u001b[39;00m WordCloud, STOPWORDS, ImageColorGenerator\n",
      "\u001b[0;31mModuleNotFoundError\u001b[0m: No module named 'wordcloud'"
     ]
    }
   ],
   "source": [
    "from os import path\n",
    "from PIL import Image\n",
    "from wordcloud import WordCloud, STOPWORDS, ImageColorGenerator"
   ]
  },
  {
   "cell_type": "code",
   "execution_count": 23,
   "metadata": {},
   "outputs": [],
   "source": [
    "import matplotlib.pyplot as plt\n",
    "import seaborn as sns\n",
    "%matplotlib inline"
   ]
  },
  {
   "cell_type": "code",
   "execution_count": 24,
   "metadata": {},
   "outputs": [
    {
     "ename": "NameError",
     "evalue": "name 'STOPWORDS' is not defined",
     "output_type": "error",
     "traceback": [
      "\u001b[0;31m---------------------------------------------------------------------------\u001b[0m",
      "\u001b[0;31mNameError\u001b[0m                                 Traceback (most recent call last)",
      "\u001b[1;32m/Users/saadbinwasi/Desktop/mfs/sentiment-analysis/senti-analysis.ipynb Cell 15\u001b[0m line \u001b[0;36m1\n\u001b[0;32m----> <a href='vscode-notebook-cell:/Users/saadbinwasi/Desktop/mfs/sentiment-analysis/senti-analysis.ipynb#X20sZmlsZQ%3D%3D?line=0'>1</a>\u001b[0m stopwords \u001b[39m=\u001b[39m \u001b[39mset\u001b[39m(STOPWORDS)\n\u001b[1;32m      <a href='vscode-notebook-cell:/Users/saadbinwasi/Desktop/mfs/sentiment-analysis/senti-analysis.ipynb#X20sZmlsZQ%3D%3D?line=1'>2</a>\u001b[0m stopwords\u001b[39m.\u001b[39mupdate([\u001b[39m\"\u001b[39m\u001b[39mbr\u001b[39m\u001b[39m\"\u001b[39m,\u001b[39m\"\u001b[39m\u001b[39mim\u001b[39m\u001b[39m\"\u001b[39m,\u001b[39m\"\u001b[39m\u001b[39mthats\u001b[39m\u001b[39m\"\u001b[39m])\n",
      "\u001b[0;31mNameError\u001b[0m: name 'STOPWORDS' is not defined"
     ]
    }
   ],
   "source": [
    "stopwords = set(STOPWORDS)\n",
    "stopwords.update([\"br\",\"im\",\"thats\"])"
   ]
  },
  {
   "cell_type": "code",
   "execution_count": 25,
   "metadata": {},
   "outputs": [
    {
     "ename": "NameError",
     "evalue": "name 'WordCloud' is not defined",
     "output_type": "error",
     "traceback": [
      "\u001b[0;31m---------------------------------------------------------------------------\u001b[0m",
      "\u001b[0;31mNameError\u001b[0m                                 Traceback (most recent call last)",
      "\u001b[1;32m/Users/saadbinwasi/Desktop/mfs/sentiment-analysis/senti-analysis.ipynb Cell 16\u001b[0m line \u001b[0;36m1\n\u001b[0;32m----> <a href='vscode-notebook-cell:/Users/saadbinwasi/Desktop/mfs/sentiment-analysis/senti-analysis.ipynb#X21sZmlsZQ%3D%3D?line=0'>1</a>\u001b[0m wordcloud \u001b[39m=\u001b[39m WordCloud(stopwords\u001b[39m=\u001b[39mstopwords, background_color\u001b[39m=\u001b[39m\u001b[39m\"\u001b[39m\u001b[39mwhite\u001b[39m\u001b[39m\"\u001b[39m)\u001b[39m.\u001b[39mgenerate(all_text)\n\u001b[1;32m      <a href='vscode-notebook-cell:/Users/saadbinwasi/Desktop/mfs/sentiment-analysis/senti-analysis.ipynb#X21sZmlsZQ%3D%3D?line=1'>2</a>\u001b[0m plt\u001b[39m.\u001b[39mimshow(wordcloud, interpolation\u001b[39m=\u001b[39m\u001b[39m'\u001b[39m\u001b[39mbilinear\u001b[39m\u001b[39m'\u001b[39m)\n\u001b[1;32m      <a href='vscode-notebook-cell:/Users/saadbinwasi/Desktop/mfs/sentiment-analysis/senti-analysis.ipynb#X21sZmlsZQ%3D%3D?line=2'>3</a>\u001b[0m plt\u001b[39m.\u001b[39maxis(\u001b[39m'\u001b[39m\u001b[39moff\u001b[39m\u001b[39m'\u001b[39m)\n",
      "\u001b[0;31mNameError\u001b[0m: name 'WordCloud' is not defined"
     ]
    }
   ],
   "source": [
    "wordcloud = WordCloud(stopwords=stopwords, background_color=\"white\").generate(all_text)\n",
    "plt.imshow(wordcloud, interpolation='bilinear')\n",
    "plt.axis('off')\n",
    "plt.show()"
   ]
  },
  {
   "cell_type": "code",
   "execution_count": 27,
   "metadata": {},
   "outputs": [
    {
     "ename": "NameError",
     "evalue": "name 'SentimentIntensityAnalyzer' is not defined",
     "output_type": "error",
     "traceback": [
      "\u001b[0;31m---------------------------------------------------------------------------\u001b[0m",
      "\u001b[0;31mNameError\u001b[0m                                 Traceback (most recent call last)",
      "\u001b[1;32m/Users/saadbinwasi/Desktop/mfs/sentiment-analysis/senti-analysis.ipynb Cell 17\u001b[0m line \u001b[0;36m1\n\u001b[0;32m----> <a href='vscode-notebook-cell:/Users/saadbinwasi/Desktop/mfs/sentiment-analysis/senti-analysis.ipynb#X22sZmlsZQ%3D%3D?line=0'>1</a>\u001b[0m sid \u001b[39m=\u001b[39m SentimentIntensityAnalyzer()\n\u001b[1;32m      <a href='vscode-notebook-cell:/Users/saadbinwasi/Desktop/mfs/sentiment-analysis/senti-analysis.ipynb#X22sZmlsZQ%3D%3D?line=1'>2</a>\u001b[0m c \u001b[39m=\u001b[39m \u001b[39m0\u001b[39m\n\u001b[1;32m      <a href='vscode-notebook-cell:/Users/saadbinwasi/Desktop/mfs/sentiment-analysis/senti-analysis.ipynb#X22sZmlsZQ%3D%3D?line=2'>3</a>\u001b[0m \u001b[39mfor\u001b[39;00m t \u001b[39min\u001b[39;00m text:\n",
      "\u001b[0;31mNameError\u001b[0m: name 'SentimentIntensityAnalyzer' is not defined"
     ]
    }
   ],
   "source": [
    "sid = SentimentIntensityAnalyzer()\n",
    "c = 0\n",
    "for t in text:\n",
    "    c+= 1 \n",
    "    \n",
    "print(c,t)\n",
    "ss = sid.polarity_scores(t)\n",
    "print(ss)\n",
    "if(ss['compound'] >= 0.05):\n",
    "   print('positive')\n",
    "elif(ss['compound'] <= -0.05):\n",
    "    print('negative')\n",
    "else:\n",
    "    print('neutral')\n",
    "print('\\n')  "
   ]
  }
 ],
 "metadata": {
  "kernelspec": {
   "display_name": "Python 3",
   "language": "python",
   "name": "python3"
  },
  "language_info": {
   "codemirror_mode": {
    "name": "ipython",
    "version": 3
   },
   "file_extension": ".py",
   "mimetype": "text/x-python",
   "name": "python",
   "nbconvert_exporter": "python",
   "pygments_lexer": "ipython3",
   "version": "3.12.0"
  }
 },
 "nbformat": 4,
 "nbformat_minor": 2
}
